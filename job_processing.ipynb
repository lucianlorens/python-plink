{
 "cells": [
  {
   "cell_type": "code",
   "execution_count": 1,
   "id": "49f6d99a",
   "metadata": {},
   "outputs": [],
   "source": [
    "import pandas as pd\n",
    "import os \n",
    "#import vcf\n",
    "import pandas_plink as pplk\n"
   ]
  },
  {
   "cell_type": "code",
   "execution_count": 2,
   "id": "d67cdb04",
   "metadata": {},
   "outputs": [],
   "source": [
    "def print_file(path):\n",
    "    a_file = open(path)\n",
    "    lines = a_file.readlines()\n",
    "    for line in lines:\n",
    "        print(line)\n"
   ]
  },
  {
   "cell_type": "code",
   "execution_count": 3,
   "id": "c78af6df",
   "metadata": {},
   "outputs": [],
   "source": [
    "# decompress and read VCF "
   ]
  },
  {
   "cell_type": "code",
   "execution_count": 4,
   "id": "2674704c",
   "metadata": {},
   "outputs": [],
   "source": [
    "raw_data_path = \"./raw_data/\"\n",
    "tbi_file = \"ALL.chr22.phase3_shapeit2_mvncall_integrated_v5b.20130502.genotypes.vcf.gz.tbi\"\n",
    "vcf_file = \"ALL.chr22.phase3_shapeit2_mvncall_integrated_v5b.20130502.genotypes.vcf.gz\"\n",
    "samples_file = \"integrated_call_samples_v3.20130502.ALL.panel\""
   ]
  },
  {
   "cell_type": "code",
   "execution_count": 5,
   "id": "7d9317d5",
   "metadata": {
    "scrolled": false
   },
   "outputs": [
    {
     "name": "stdout",
     "output_type": "stream",
     "text": [
      "PLINK v1.90b6.23 64-bit (28 May 2021)\n",
      "\n",
      "Options in effect:\n",
      "\n",
      "  --make-bed\n",
      "\n",
      "  --out chr22_fileset_1\n",
      "\n",
      "  --vcf ./raw_data/ALL.chr22.phase3_shapeit2_mvncall_integrated_v5b.20130502.genotypes.vcf.gz\n",
      "\n",
      "\n",
      "\n",
      "Hostname: nexorens\n",
      "\n",
      "Working directory: /home/lorens/projects/hub/python_plink\n",
      "\n",
      "Start time: Fri Jun  4 08:48:44 2021\n",
      "\n",
      "\n",
      "\n",
      "Random number seed: 1622807324\n",
      "\n",
      "15917 MB RAM detected; reserving 7958 MB for main workspace.\n",
      "\n",
      "Error: Missing header line in .vcf file.\n",
      "\n",
      "\n",
      "\n",
      "End time: Fri Jun  4 08:48:44 2021\n",
      "\n"
     ]
    }
   ],
   "source": [
    "# using PLink1\n",
    "os.system(\"./plink_tool/v1/plink --vcf \"+raw_data_path+vcf_file+\" --make-bed --out chr22_fileset_1\")\n",
    "print_file(\"chr22_fileset_1.log\")"
   ]
  },
  {
   "cell_type": "code",
   "execution_count": 6,
   "id": "819bb8fd",
   "metadata": {},
   "outputs": [
    {
     "name": "stdout",
     "output_type": "stream",
     "text": [
      "PLINK v2.00a3LM 64-bit Intel (25 May 2021)\n",
      "\n",
      "Options in effect:\n",
      "\n",
      "  --make-bed\n",
      "\n",
      "  --out chr22_fileset_2\n",
      "\n",
      "  --vcf ./raw_data/ALL.chr22.phase3_shapeit2_mvncall_integrated_v5b.20130502.genotypes.vcf.gz\n",
      "\n",
      "\n",
      "\n",
      "Hostname: nexorens\n",
      "\n",
      "Working directory: /home/lorens/projects/hub/python_plink\n",
      "\n",
      "Start time: Fri Jun  4 08:48:44 2021\n",
      "\n",
      "\n",
      "\n",
      "Random number seed: 1622807324\n",
      "\n",
      "15917 MiB RAM detected; reserving 7958 MiB for main workspace.\n",
      "\n",
      "Using up to 4 compute threads.\n",
      "\n",
      "Error: --vcf file decompression failure: GzRawStreamRead: gzipped file appears\n",
      "\n",
      "to be truncated.\n",
      "\n",
      "\n",
      "\n",
      "End time: Fri Jun  4 08:48:44 2021\n",
      "\n"
     ]
    }
   ],
   "source": [
    "# using PLink 2\n",
    "os.system(\"./plink_tool/v2/plink2 --vcf \"+raw_data_path+vcf_file+\" --make-bed --out chr22_fileset_2\")\n",
    "print_file(\"chr22_fileset_2.log\")"
   ]
  },
  {
   "cell_type": "code",
   "execution_count": 7,
   "id": "22ff3ccd",
   "metadata": {},
   "outputs": [
    {
     "ename": "ValueError",
     "evalue": "No BED file has been found.",
     "output_type": "error",
     "traceback": [
      "\u001b[0;31m---------------------------------------------------------------------------\u001b[0m",
      "\u001b[0;31mValueError\u001b[0m                                Traceback (most recent call last)",
      "\u001b[0;32m<ipython-input-7-5cfbd1f2abd2>\u001b[0m in \u001b[0;36m<module>\u001b[0;34m\u001b[0m\n\u001b[0;32m----> 1\u001b[0;31m \u001b[0mgen\u001b[0m \u001b[0;34m=\u001b[0m \u001b[0mpplk\u001b[0m\u001b[0;34m.\u001b[0m\u001b[0mread_plink1_bin\u001b[0m\u001b[0;34m(\u001b[0m\u001b[0;34m\"chr22_fileset_1.bed\"\u001b[0m\u001b[0;34m,\u001b[0m \u001b[0;34m\"chr22_fileset_1.bim\"\u001b[0m\u001b[0;34m,\u001b[0m \u001b[0;34m\"chr22_fileset_1.fam\"\u001b[0m\u001b[0;34m,\u001b[0m \u001b[0mverbose\u001b[0m\u001b[0;34m=\u001b[0m\u001b[0;32mFalse\u001b[0m\u001b[0;34m)\u001b[0m\u001b[0;34m\u001b[0m\u001b[0;34m\u001b[0m\u001b[0m\n\u001b[0m",
      "\u001b[0;32m~/.local/lib/python3.8/site-packages/pandas_plink/_read.py\u001b[0m in \u001b[0;36mread_plink1_bin\u001b[0;34m(bed, bim, fam, verbose, ref, chunk)\u001b[0m\n\u001b[1;32m    265\u001b[0m     \u001b[0mbed_files\u001b[0m \u001b[0;34m=\u001b[0m \u001b[0msorted\u001b[0m\u001b[0;34m(\u001b[0m\u001b[0mglob\u001b[0m\u001b[0;34m(\u001b[0m\u001b[0mbed\u001b[0m\u001b[0;34m)\u001b[0m\u001b[0;34m)\u001b[0m\u001b[0;34m\u001b[0m\u001b[0;34m\u001b[0m\u001b[0m\n\u001b[1;32m    266\u001b[0m     \u001b[0;32mif\u001b[0m \u001b[0mlen\u001b[0m\u001b[0;34m(\u001b[0m\u001b[0mbed_files\u001b[0m\u001b[0;34m)\u001b[0m \u001b[0;34m==\u001b[0m \u001b[0;36m0\u001b[0m\u001b[0;34m:\u001b[0m\u001b[0;34m\u001b[0m\u001b[0;34m\u001b[0m\u001b[0m\n\u001b[0;32m--> 267\u001b[0;31m         \u001b[0;32mraise\u001b[0m \u001b[0mValueError\u001b[0m\u001b[0;34m(\u001b[0m\u001b[0;34m\"No BED file has been found.\"\u001b[0m\u001b[0;34m)\u001b[0m\u001b[0;34m\u001b[0m\u001b[0;34m\u001b[0m\u001b[0m\n\u001b[0m\u001b[1;32m    268\u001b[0m \u001b[0;34m\u001b[0m\u001b[0m\n\u001b[1;32m    269\u001b[0m     \u001b[0;32mif\u001b[0m \u001b[0mbim\u001b[0m \u001b[0;32mis\u001b[0m \u001b[0;32mNone\u001b[0m\u001b[0;34m:\u001b[0m\u001b[0;34m\u001b[0m\u001b[0;34m\u001b[0m\u001b[0m\n",
      "\u001b[0;31mValueError\u001b[0m: No BED file has been found."
     ]
    }
   ],
   "source": [
    "gen = pplk.read_plink1_bin(\"chr22_fileset_1.bed\", \"chr22_fileset_1.bim\", \"chr22_fileset_1.fam\", verbose=False)"
   ]
  },
  {
   "cell_type": "code",
   "execution_count": 8,
   "id": "e253e394",
   "metadata": {},
   "outputs": [
    {
     "data": {
      "text/html": [
       "<div>\n",
       "<style scoped>\n",
       "    .dataframe tbody tr th:only-of-type {\n",
       "        vertical-align: middle;\n",
       "    }\n",
       "\n",
       "    .dataframe tbody tr th {\n",
       "        vertical-align: top;\n",
       "    }\n",
       "\n",
       "    .dataframe thead th {\n",
       "        text-align: right;\n",
       "    }\n",
       "</style>\n",
       "<table border=\"1\" class=\"dataframe\">\n",
       "  <thead>\n",
       "    <tr style=\"text-align: right;\">\n",
       "      <th></th>\n",
       "      <th>sample</th>\n",
       "      <th>pop</th>\n",
       "      <th>super_pop</th>\n",
       "      <th>gender</th>\n",
       "      <th>Unnamed: 4</th>\n",
       "      <th>Unnamed: 5</th>\n",
       "    </tr>\n",
       "  </thead>\n",
       "  <tbody>\n",
       "    <tr>\n",
       "      <th>0</th>\n",
       "      <td>HG00096</td>\n",
       "      <td>GBR</td>\n",
       "      <td>EUR</td>\n",
       "      <td>male</td>\n",
       "      <td>NaN</td>\n",
       "      <td>NaN</td>\n",
       "    </tr>\n",
       "    <tr>\n",
       "      <th>1</th>\n",
       "      <td>HG00097</td>\n",
       "      <td>GBR</td>\n",
       "      <td>EUR</td>\n",
       "      <td>female</td>\n",
       "      <td>NaN</td>\n",
       "      <td>NaN</td>\n",
       "    </tr>\n",
       "    <tr>\n",
       "      <th>2</th>\n",
       "      <td>HG00099</td>\n",
       "      <td>GBR</td>\n",
       "      <td>EUR</td>\n",
       "      <td>female</td>\n",
       "      <td>NaN</td>\n",
       "      <td>NaN</td>\n",
       "    </tr>\n",
       "    <tr>\n",
       "      <th>3</th>\n",
       "      <td>HG00100</td>\n",
       "      <td>GBR</td>\n",
       "      <td>EUR</td>\n",
       "      <td>female</td>\n",
       "      <td>NaN</td>\n",
       "      <td>NaN</td>\n",
       "    </tr>\n",
       "    <tr>\n",
       "      <th>4</th>\n",
       "      <td>HG00101</td>\n",
       "      <td>GBR</td>\n",
       "      <td>EUR</td>\n",
       "      <td>male</td>\n",
       "      <td>NaN</td>\n",
       "      <td>NaN</td>\n",
       "    </tr>\n",
       "    <tr>\n",
       "      <th>...</th>\n",
       "      <td>...</td>\n",
       "      <td>...</td>\n",
       "      <td>...</td>\n",
       "      <td>...</td>\n",
       "      <td>...</td>\n",
       "      <td>...</td>\n",
       "    </tr>\n",
       "    <tr>\n",
       "      <th>2499</th>\n",
       "      <td>NA21137</td>\n",
       "      <td>GIH</td>\n",
       "      <td>SAS</td>\n",
       "      <td>female</td>\n",
       "      <td>NaN</td>\n",
       "      <td>NaN</td>\n",
       "    </tr>\n",
       "    <tr>\n",
       "      <th>2500</th>\n",
       "      <td>NA21141</td>\n",
       "      <td>GIH</td>\n",
       "      <td>SAS</td>\n",
       "      <td>female</td>\n",
       "      <td>NaN</td>\n",
       "      <td>NaN</td>\n",
       "    </tr>\n",
       "    <tr>\n",
       "      <th>2501</th>\n",
       "      <td>NA21142</td>\n",
       "      <td>GIH</td>\n",
       "      <td>SAS</td>\n",
       "      <td>female</td>\n",
       "      <td>NaN</td>\n",
       "      <td>NaN</td>\n",
       "    </tr>\n",
       "    <tr>\n",
       "      <th>2502</th>\n",
       "      <td>NA21143</td>\n",
       "      <td>GIH</td>\n",
       "      <td>SAS</td>\n",
       "      <td>female</td>\n",
       "      <td>NaN</td>\n",
       "      <td>NaN</td>\n",
       "    </tr>\n",
       "    <tr>\n",
       "      <th>2503</th>\n",
       "      <td>NA21144</td>\n",
       "      <td>GIH</td>\n",
       "      <td>SAS</td>\n",
       "      <td>female</td>\n",
       "      <td>NaN</td>\n",
       "      <td>NaN</td>\n",
       "    </tr>\n",
       "  </tbody>\n",
       "</table>\n",
       "<p>2504 rows × 6 columns</p>\n",
       "</div>"
      ],
      "text/plain": [
       "       sample  pop super_pop  gender  Unnamed: 4  Unnamed: 5\n",
       "0     HG00096  GBR       EUR    male         NaN         NaN\n",
       "1     HG00097  GBR       EUR  female         NaN         NaN\n",
       "2     HG00099  GBR       EUR  female         NaN         NaN\n",
       "3     HG00100  GBR       EUR  female         NaN         NaN\n",
       "4     HG00101  GBR       EUR    male         NaN         NaN\n",
       "...       ...  ...       ...     ...         ...         ...\n",
       "2499  NA21137  GIH       SAS  female         NaN         NaN\n",
       "2500  NA21141  GIH       SAS  female         NaN         NaN\n",
       "2501  NA21142  GIH       SAS  female         NaN         NaN\n",
       "2502  NA21143  GIH       SAS  female         NaN         NaN\n",
       "2503  NA21144  GIH       SAS  female         NaN         NaN\n",
       "\n",
       "[2504 rows x 6 columns]"
      ]
     },
     "execution_count": 8,
     "metadata": {},
     "output_type": "execute_result"
    }
   ],
   "source": [
    "samples_df = pd.read_csv(raw_data_path+samples_file, sep='\\t', header=0)\n",
    "samples_df"
   ]
  },
  {
   "cell_type": "code",
   "execution_count": 9,
   "id": "966eb8e3",
   "metadata": {},
   "outputs": [],
   "source": [
    "# Filter Samples\n",
    "selected_samples = samples_df[samples_df['pop'].str.contains(\"JPT|TSI\")]"
   ]
  },
  {
   "cell_type": "code",
   "execution_count": 10,
   "id": "70383f7f",
   "metadata": {},
   "outputs": [
    {
     "data": {
      "text/html": [
       "<div>\n",
       "<style scoped>\n",
       "    .dataframe tbody tr th:only-of-type {\n",
       "        vertical-align: middle;\n",
       "    }\n",
       "\n",
       "    .dataframe tbody tr th {\n",
       "        vertical-align: top;\n",
       "    }\n",
       "\n",
       "    .dataframe thead th {\n",
       "        text-align: right;\n",
       "    }\n",
       "</style>\n",
       "<table border=\"1\" class=\"dataframe\">\n",
       "  <thead>\n",
       "    <tr style=\"text-align: right;\">\n",
       "      <th></th>\n",
       "      <th>sample</th>\n",
       "      <th>pop</th>\n",
       "      <th>super_pop</th>\n",
       "      <th>gender</th>\n",
       "      <th>Unnamed: 4</th>\n",
       "      <th>Unnamed: 5</th>\n",
       "    </tr>\n",
       "  </thead>\n",
       "  <tbody>\n",
       "    <tr>\n",
       "      <th>1906</th>\n",
       "      <td>NA18939</td>\n",
       "      <td>JPT</td>\n",
       "      <td>EAS</td>\n",
       "      <td>female</td>\n",
       "      <td>NaN</td>\n",
       "      <td>NaN</td>\n",
       "    </tr>\n",
       "    <tr>\n",
       "      <th>2294</th>\n",
       "      <td>NA20502</td>\n",
       "      <td>TSI</td>\n",
       "      <td>EUR</td>\n",
       "      <td>female</td>\n",
       "      <td>NaN</td>\n",
       "      <td>NaN</td>\n",
       "    </tr>\n",
       "  </tbody>\n",
       "</table>\n",
       "</div>"
      ],
      "text/plain": [
       "       sample  pop super_pop  gender  Unnamed: 4  Unnamed: 5\n",
       "1906  NA18939  JPT       EAS  female         NaN         NaN\n",
       "2294  NA20502  TSI       EUR  female         NaN         NaN"
      ]
     },
     "execution_count": 10,
     "metadata": {},
     "output_type": "execute_result"
    }
   ],
   "source": [
    "selected_samples.drop_duplicates('pop')"
   ]
  },
  {
   "cell_type": "code",
   "execution_count": null,
   "id": "d029218d",
   "metadata": {},
   "outputs": [],
   "source": []
  }
 ],
 "metadata": {
  "kernelspec": {
   "display_name": "Python 3",
   "language": "python",
   "name": "python3"
  },
  "language_info": {
   "codemirror_mode": {
    "name": "ipython",
    "version": 3
   },
   "file_extension": ".py",
   "mimetype": "text/x-python",
   "name": "python",
   "nbconvert_exporter": "python",
   "pygments_lexer": "ipython3",
   "version": "3.8.5"
  }
 },
 "nbformat": 4,
 "nbformat_minor": 5
}
